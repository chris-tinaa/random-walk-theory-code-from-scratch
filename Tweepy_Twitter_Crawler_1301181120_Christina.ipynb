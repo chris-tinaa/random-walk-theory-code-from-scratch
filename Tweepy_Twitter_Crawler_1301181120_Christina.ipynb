{
  "nbformat": 4,
  "nbformat_minor": 0,
  "metadata": {
    "colab": {
      "name": "Tweepy Twitter Crawler - 1301181120 - Christina.ipynb",
      "provenance": [],
      "collapsed_sections": [],
      "toc_visible": true
    },
    "kernelspec": {
      "name": "python3",
      "display_name": "Python 3"
    }
  },
  "cells": [
    {
      "cell_type": "markdown",
      "metadata": {
        "id": "u8bheVzZKG8F"
      },
      "source": [
        "CHRISTINA - 1301181120"
      ]
    },
    {
      "cell_type": "code",
      "metadata": {
        "id": "Opx4aFmzcTkD"
      },
      "source": [
        "import tweepy\n",
        "import pandas as pd\n",
        "import numpy as np\n",
        "import csv\n",
        "import json"
      ],
      "execution_count": null,
      "outputs": []
    },
    {
      "cell_type": "code",
      "metadata": {
        "id": "cQyDZAvSgPxp"
      },
      "source": [
        "consumer_key = \"atw7tmtSz3A7bNq3FmTL2l210\"\n",
        "consumer_secret = \"AIR3UeujTbYVXeZCsKn57n9YlpNkqp4DVTKF2x5ix9Jtiqj4Oj\"\n",
        "access_token = \"1284828857648832516-cwh6yuyUW6NZCjWc223LcDtkXfTs0O\"\n",
        "access_token_secret = \"Y2flq1ftYTovp7w2O9WGbkjrPnBQC7ccjRr5E0bM0Kur7\""
      ],
      "execution_count": null,
      "outputs": []
    },
    {
      "cell_type": "code",
      "metadata": {
        "id": "IbV0h0Pkgkxa"
      },
      "source": [
        "auth = tweepy.OAuthHandler(consumer_key, consumer_secret)\n",
        "auth.set_access_token(access_token, access_token_secret)\n",
        "api = tweepy.API(auth)"
      ],
      "execution_count": null,
      "outputs": []
    },
    {
      "cell_type": "markdown",
      "metadata": {
        "id": "oG5bWBBGJ3lt"
      },
      "source": [
        "# 1. Build a crawler that collects a user's profile information from Twitter given the user's Twitter ID"
      ]
    },
    {
      "cell_type": "code",
      "metadata": {
        "colab": {
          "base_uri": "https://localhost:8080/"
        },
        "id": "HqMsNb1Qnv3_",
        "outputId": "d3b80af9-ed05-4de1-8ab2-9ffb1f39157a"
      },
      "source": [
        "# the ID of the user \n",
        "id = 57741058\n",
        "  \n",
        "# fetching the user \n",
        "user = api.get_user(id) \n",
        "  \n",
        "# fetching the description \n",
        "# description = user.description \n",
        "  \n",
        "print(json.dumps(user._json, sort_keys=True, indent=4))\n",
        "\n",
        "with open('user_profile_information.json', 'w', encoding='utf-8') as f:\n",
        "    json.dump(user._json, f, ensure_ascii=False, sort_keys=True, indent=4)"
      ],
      "execution_count": null,
      "outputs": [
        {
          "output_type": "stream",
          "text": [
            "{\n",
            "    \"contributors_enabled\": false,\n",
            "    \"created_at\": \"Fri Jul 17 20:02:09 +0000 2009\",\n",
            "    \"default_profile\": false,\n",
            "    \"default_profile_image\": false,\n",
            "    \"description\": \"Your friendly neighborhood assignment helper!\",\n",
            "    \"entities\": {\n",
            "        \"description\": {\n",
            "            \"urls\": []\n",
            "        },\n",
            "        \"url\": {\n",
            "            \"urls\": [\n",
            "                {\n",
            "                    \"display_url\": \"taplink.cc/geeks_for_geeks\",\n",
            "                    \"expanded_url\": \"https://taplink.cc/geeks_for_geeks\",\n",
            "                    \"indices\": [\n",
            "                        0,\n",
            "                        23\n",
            "                    ],\n",
            "                    \"url\": \"https://t.co/TbEXe3wei6\"\n",
            "                }\n",
            "            ]\n",
            "        }\n",
            "    },\n",
            "    \"favourites_count\": 1839,\n",
            "    \"follow_request_sent\": false,\n",
            "    \"followers_count\": 24268,\n",
            "    \"following\": false,\n",
            "    \"friends_count\": 49,\n",
            "    \"geo_enabled\": true,\n",
            "    \"has_extended_profile\": false,\n",
            "    \"id\": 57741058,\n",
            "    \"id_str\": \"57741058\",\n",
            "    \"is_translation_enabled\": false,\n",
            "    \"is_translator\": false,\n",
            "    \"lang\": null,\n",
            "    \"listed_count\": 169,\n",
            "    \"location\": \"India\",\n",
            "    \"name\": \"GeeksforGeeks\",\n",
            "    \"notifications\": false,\n",
            "    \"profile_background_color\": \"FFFDF7\",\n",
            "    \"profile_background_image_url\": \"http://abs.twimg.com/images/themes/theme13/bg.gif\",\n",
            "    \"profile_background_image_url_https\": \"https://abs.twimg.com/images/themes/theme13/bg.gif\",\n",
            "    \"profile_background_tile\": false,\n",
            "    \"profile_banner_url\": \"https://pbs.twimg.com/profile_banners/57741058/1614163347\",\n",
            "    \"profile_image_url\": \"http://pbs.twimg.com/profile_images/1304985167476523008/QNHrwL2q_normal.jpg\",\n",
            "    \"profile_image_url_https\": \"https://pbs.twimg.com/profile_images/1304985167476523008/QNHrwL2q_normal.jpg\",\n",
            "    \"profile_link_color\": \"119E39\",\n",
            "    \"profile_location\": null,\n",
            "    \"profile_sidebar_border_color\": \"D3D2CF\",\n",
            "    \"profile_sidebar_fill_color\": \"E3E2DE\",\n",
            "    \"profile_text_color\": \"0D0C0C\",\n",
            "    \"profile_use_background_image\": false,\n",
            "    \"protected\": false,\n",
            "    \"screen_name\": \"geeksforgeeks\",\n",
            "    \"status\": {\n",
            "        \"contributors\": null,\n",
            "        \"coordinates\": null,\n",
            "        \"created_at\": \"Mon Mar 08 13:27:25 +0000 2021\",\n",
            "        \"entities\": {\n",
            "            \"hashtags\": [\n",
            "                {\n",
            "                    \"indices\": [\n",
            "                        12,\n",
            "                        18\n",
            "                    ],\n",
            "                    \"text\": \"women\"\n",
            "                }\n",
            "            ],\n",
            "            \"symbols\": [],\n",
            "            \"urls\": [\n",
            "                {\n",
            "                    \"display_url\": \"twitter.com/i/web/status/1\\u2026\",\n",
            "                    \"expanded_url\": \"https://twitter.com/i/web/status/1368916266539360258\",\n",
            "                    \"indices\": [\n",
            "                        117,\n",
            "                        140\n",
            "                    ],\n",
            "                    \"url\": \"https://t.co/5lfvCT7YVj\"\n",
            "                }\n",
            "            ],\n",
            "            \"user_mentions\": []\n",
            "        },\n",
            "        \"favorite_count\": 1,\n",
            "        \"favorited\": false,\n",
            "        \"geo\": null,\n",
            "        \"id\": 1368916266539360258,\n",
            "        \"id_str\": \"1368916266539360258\",\n",
            "        \"in_reply_to_screen_name\": null,\n",
            "        \"in_reply_to_status_id\": null,\n",
            "        \"in_reply_to_status_id_str\": null,\n",
            "        \"in_reply_to_user_id\": null,\n",
            "        \"in_reply_to_user_id_str\": null,\n",
            "        \"is_quote_status\": false,\n",
            "        \"lang\": \"en\",\n",
            "        \"place\": null,\n",
            "        \"possibly_sensitive\": false,\n",
            "        \"retweet_count\": 2,\n",
            "        \"retweeted\": false,\n",
            "        \"source\": \"<a href=\\\"http://twitter.com/download/android\\\" rel=\\\"nofollow\\\">Twitter for Android</a>\",\n",
            "        \"text\": \"For all the #women out there, what are the biases you've faced in your professional life?\\n\\nAlso, did you know how w\\u2026 https://t.co/5lfvCT7YVj\",\n",
            "        \"truncated\": true\n",
            "    },\n",
            "    \"statuses_count\": 15010,\n",
            "    \"time_zone\": null,\n",
            "    \"translator_type\": \"none\",\n",
            "    \"url\": \"https://t.co/TbEXe3wei6\",\n",
            "    \"utc_offset\": null,\n",
            "    \"verified\": false\n",
            "}\n"
          ],
          "name": "stdout"
        }
      ]
    },
    {
      "cell_type": "markdown",
      "metadata": {
        "id": "zTSwpZW2J9o0"
      },
      "source": [
        "# 2. Build a crawler that collects a user's social network information given the user's ID"
      ]
    },
    {
      "cell_type": "code",
      "metadata": {
        "colab": {
          "base_uri": "https://localhost:8080/"
        },
        "id": "uTR-I_Jhq9BA",
        "outputId": "1479da9d-d138-439d-87b4-03b3cc14024d"
      },
      "source": [
        "# Get user's followings\n",
        "\n",
        "id = 57741058\n",
        "followings = []\n",
        "  \n",
        "for friend in tweepy.Cursor(api.friends, id).items(30): \n",
        "    print(friend.screen_name) \n",
        "    followings.append(friend.screen_name)\n",
        "\n",
        "np.savetxt('followings.txt', followings, fmt='%s')"
      ],
      "execution_count": null,
      "outputs": [
        {
          "output_type": "stream",
          "text": [
            "CarlaNotarobot\n",
            "aayushjaiswal07\n",
            "MicrosoftWomen\n",
            "LeetCode\n",
            "AWS_Edu\n",
            "AndrewYNg\n",
            "TwitterMktgIN\n",
            "GoogleCloud_IN\n",
            "Android\n",
            "Google\n",
            "Twitter\n",
            "googledevs\n",
            "freeCodeCamp\n",
            "MSCloud\n",
            "Microsoft\n",
            "scottgu\n",
            "java\n",
            "vlh\n",
            "SaraJChipps\n",
            "github\n",
            "codinghorror\n",
            "arungupta\n",
            "fchollet\n",
            "JeffDean\n",
            "GoogleAI\n",
            "levie\n",
            "tim_cook\n",
            "googlecodejam\n",
            "elonmusk\n",
            "TwitterIndia\n"
          ],
          "name": "stdout"
        }
      ]
    },
    {
      "cell_type": "code",
      "metadata": {
        "colab": {
          "base_uri": "https://localhost:8080/"
        },
        "id": "dhgqJnDtzHmK",
        "outputId": "c8535dbd-668e-43be-b8ba-7f57379a1ae4"
      },
      "source": [
        "# Get user's followers\n",
        "\n",
        "id = 57741058\n",
        "followers = []\n",
        "  \n",
        "for follower in tweepy.Cursor(api.followers, id).items(30): \n",
        "    print(follower.screen_name) \n",
        "    followers.append(follower.screen_name)\n",
        "\n",
        "np.savetxt('followers.txt', followers, fmt='%s')"
      ],
      "execution_count": null,
      "outputs": [
        {
          "output_type": "stream",
          "text": [
            "010586L0VE\n",
            "YGelistiriciler\n",
            "Harshde72647287\n",
            "agileshkAaraP\n",
            "RahulSi98264355\n",
            "SaiChar44707800\n",
            "_Menzokuhle_\n",
            "Amr2010100\n",
            "sacazz\n",
            "ArunKaluvakola1\n",
            "aravinth_kv\n",
            "Hakob_Arakelyan\n",
            "ShivGhatbale\n",
            "OmKumar81348725\n",
            "vedantjot\n",
            "chrstngmnz\n",
            "Benisontech\n",
            "yajairo87\n",
            "Mb857510552\n",
            "joaobcpatricio\n",
            "i_kapilsoni\n",
            "dreadwind27SE\n",
            "Mylarocknrolla\n",
            "CarlosTrejo2308\n",
            "BiswaGeeky\n",
            "saggit01\n",
            "gouravt3011\n",
            "proc_coder13\n",
            "nayara_valadao\n",
            "AnikDey0110\n"
          ],
          "name": "stdout"
        }
      ]
    },
    {
      "cell_type": "markdown",
      "metadata": {
        "id": "o-xpheLtJwnk"
      },
      "source": [
        "# 3. Build a crawler that collects the tweets using a set of specified keywords and a geolocation based criteria"
      ]
    },
    {
      "cell_type": "code",
      "metadata": {
        "colab": {
          "base_uri": "https://localhost:8080/",
          "height": 337
        },
        "id": "nj7_hdrrvJxw",
        "outputId": "a0e22ba2-c7c9-46b0-ee77-c2a1147aaa9e"
      },
      "source": [
        "#Create list for column names\n",
        "COLS = ['id','created_at','lang','original text','user_name', 'place', 'place type', 'bbx', 'coordinates']\n",
        "\n",
        "def crawl_tweets(keyword,geo):\n",
        "\n",
        "    #build dataframe from defined column list\n",
        "    df = pd.DataFrame(columns=COLS)\n",
        "    df_cleaned = pd.DataFrame(columns=COLS)\n",
        "\n",
        "    #iterate through pages with given condition\n",
        "    #using tweepy.Cursor object with items() method\n",
        "    for page in tweepy.Cursor(api.search, q=keyword, include_rts=False, geocode=geo, count=100).pages():\n",
        "        \n",
        "        for tweet in page:\n",
        "            #creating string array\n",
        "            new_entry = []\n",
        "\n",
        "            #storing all JSON data from twitter API\n",
        "            tweet = tweet._json    \n",
        "\n",
        "            #Append the JSON parsed data to the string list:\n",
        "            new_entry += [tweet['id'], tweet['created_at'], tweet['lang'], tweet['text'], tweet['user']['name']]\n",
        "\n",
        "            #check if place name is available. If it's not, then the entry is named 'no place'\n",
        "            try:\n",
        "                place = tweet['place']['name']\n",
        "            except TypeError:\n",
        "                place = 'no place'\n",
        "            new_entry.append(place)\n",
        "\n",
        "            try:\n",
        "                place_type = tweet['place']['place_type']\n",
        "            except TypeError:\n",
        "                place_type = 'na'\n",
        "            new_entry.append(place_type)\n",
        "\n",
        "            try:\n",
        "                bbx = tweet['place']['bounding_box']['coordinates']\n",
        "            except TypeError:\n",
        "                bbx = 'na'\n",
        "            new_entry.append(bbx)\n",
        "\n",
        "            #check if coordinates are available. If it's aren't, the entry is named 'no coordinates'\n",
        "            try:\n",
        "                coord = tweet['coordinates']['coordinates']\n",
        "            except TypeError:\n",
        "                coord = 'no coordinates'\n",
        "            new_entry.append(coord)\n",
        "\n",
        "            # wrap up all the data into a data frame\n",
        "            single_tweet_df = pd.DataFrame([new_entry], columns=COLS)\n",
        "            df = df.append(single_tweet_df, ignore_index=True)\n",
        "\n",
        "            #get rid of tweets without a place\n",
        "            df_cleaned = df[df.place != 'no place']\n",
        "\n",
        "    print(\"tweets with place:\")\n",
        "    print(len(df[df.place != 'no place']))\n",
        "\n",
        "    print(\"tweets with coordinates:\")\n",
        "    print(len(df[df.coordinates != 'no coordinates']))\n",
        "\n",
        "    df_cleaned.to_csv('tweets_'+geo+'.csv', columns=COLS,index=False)\n",
        "\n",
        "#declare keywords as a query\n",
        "keyword = 'makan'\n",
        "#declare geocode\n",
        "geo = '-0.789275,113.921327,2700km'\n",
        "\n",
        "#call main method passing keywords and file path\n",
        "crawl_tweets(keyword, geo)"
      ],
      "execution_count": null,
      "outputs": [
        {
          "output_type": "error",
          "ename": "TweepError",
          "evalue": "ignored",
          "traceback": [
            "\u001b[0;31m---------------------------------------------------------------------------\u001b[0m",
            "\u001b[0;31mTweepError\u001b[0m                                Traceback (most recent call last)",
            "\u001b[0;32m<ipython-input-9-410fee380d24>\u001b[0m in \u001b[0;36m<module>\u001b[0;34m()\u001b[0m\n\u001b[1;32m     69\u001b[0m \u001b[0;34m\u001b[0m\u001b[0m\n\u001b[1;32m     70\u001b[0m \u001b[0;31m#call main method passing keywords and file path\u001b[0m\u001b[0;34m\u001b[0m\u001b[0;34m\u001b[0m\u001b[0;34m\u001b[0m\u001b[0m\n\u001b[0;32m---> 71\u001b[0;31m \u001b[0mcrawl_tweets\u001b[0m\u001b[0;34m(\u001b[0m\u001b[0mkeyword\u001b[0m\u001b[0;34m,\u001b[0m \u001b[0mgeo\u001b[0m\u001b[0;34m)\u001b[0m\u001b[0;34m\u001b[0m\u001b[0;34m\u001b[0m\u001b[0m\n\u001b[0m",
            "\u001b[0;32m<ipython-input-9-410fee380d24>\u001b[0m in \u001b[0;36mcrawl_tweets\u001b[0;34m(keyword, geo)\u001b[0m\n\u001b[1;32m     10\u001b[0m     \u001b[0;31m#iterate through pages with given condition\u001b[0m\u001b[0;34m\u001b[0m\u001b[0;34m\u001b[0m\u001b[0;34m\u001b[0m\u001b[0m\n\u001b[1;32m     11\u001b[0m     \u001b[0;31m#using tweepy.Cursor object with items() method\u001b[0m\u001b[0;34m\u001b[0m\u001b[0;34m\u001b[0m\u001b[0;34m\u001b[0m\u001b[0m\n\u001b[0;32m---> 12\u001b[0;31m     \u001b[0;32mfor\u001b[0m \u001b[0mpage\u001b[0m \u001b[0;32min\u001b[0m \u001b[0mtweepy\u001b[0m\u001b[0;34m.\u001b[0m\u001b[0mCursor\u001b[0m\u001b[0;34m(\u001b[0m\u001b[0mapi\u001b[0m\u001b[0;34m.\u001b[0m\u001b[0msearch\u001b[0m\u001b[0;34m,\u001b[0m \u001b[0mq\u001b[0m\u001b[0;34m=\u001b[0m\u001b[0mkeyword\u001b[0m\u001b[0;34m,\u001b[0m \u001b[0minclude_rts\u001b[0m\u001b[0;34m=\u001b[0m\u001b[0;32mFalse\u001b[0m\u001b[0;34m,\u001b[0m \u001b[0mgeocode\u001b[0m\u001b[0;34m=\u001b[0m\u001b[0mgeo\u001b[0m\u001b[0;34m,\u001b[0m \u001b[0mcount\u001b[0m\u001b[0;34m=\u001b[0m\u001b[0;36m100\u001b[0m\u001b[0;34m)\u001b[0m\u001b[0;34m.\u001b[0m\u001b[0mpages\u001b[0m\u001b[0;34m(\u001b[0m\u001b[0;34m)\u001b[0m\u001b[0;34m:\u001b[0m\u001b[0;34m\u001b[0m\u001b[0;34m\u001b[0m\u001b[0m\n\u001b[0m\u001b[1;32m     13\u001b[0m \u001b[0;34m\u001b[0m\u001b[0m\n\u001b[1;32m     14\u001b[0m         \u001b[0;32mfor\u001b[0m \u001b[0mtweet\u001b[0m \u001b[0;32min\u001b[0m \u001b[0mpage\u001b[0m\u001b[0;34m:\u001b[0m\u001b[0;34m\u001b[0m\u001b[0;34m\u001b[0m\u001b[0m\n",
            "\u001b[0;32m/usr/local/lib/python3.7/dist-packages/tweepy/cursor.py\u001b[0m in \u001b[0;36m__next__\u001b[0;34m(self)\u001b[0m\n\u001b[1;32m     49\u001b[0m \u001b[0;34m\u001b[0m\u001b[0m\n\u001b[1;32m     50\u001b[0m     \u001b[0;32mdef\u001b[0m \u001b[0m__next__\u001b[0m\u001b[0;34m(\u001b[0m\u001b[0mself\u001b[0m\u001b[0;34m)\u001b[0m\u001b[0;34m:\u001b[0m\u001b[0;34m\u001b[0m\u001b[0;34m\u001b[0m\u001b[0m\n\u001b[0;32m---> 51\u001b[0;31m         \u001b[0;32mreturn\u001b[0m \u001b[0mself\u001b[0m\u001b[0;34m.\u001b[0m\u001b[0mnext\u001b[0m\u001b[0;34m(\u001b[0m\u001b[0;34m)\u001b[0m\u001b[0;34m\u001b[0m\u001b[0;34m\u001b[0m\u001b[0m\n\u001b[0m\u001b[1;32m     52\u001b[0m \u001b[0;34m\u001b[0m\u001b[0m\n\u001b[1;32m     53\u001b[0m     \u001b[0;32mdef\u001b[0m \u001b[0mnext\u001b[0m\u001b[0;34m(\u001b[0m\u001b[0mself\u001b[0m\u001b[0;34m)\u001b[0m\u001b[0;34m:\u001b[0m\u001b[0;34m\u001b[0m\u001b[0;34m\u001b[0m\u001b[0m\n",
            "\u001b[0;32m/usr/local/lib/python3.7/dist-packages/tweepy/cursor.py\u001b[0m in \u001b[0;36mnext\u001b[0;34m(self)\u001b[0m\n\u001b[1;32m    130\u001b[0m \u001b[0;34m\u001b[0m\u001b[0m\n\u001b[1;32m    131\u001b[0m         \u001b[0;32mif\u001b[0m \u001b[0mself\u001b[0m\u001b[0;34m.\u001b[0m\u001b[0mindex\u001b[0m \u001b[0;34m>=\u001b[0m \u001b[0mlen\u001b[0m\u001b[0;34m(\u001b[0m\u001b[0mself\u001b[0m\u001b[0;34m.\u001b[0m\u001b[0mresults\u001b[0m\u001b[0;34m)\u001b[0m \u001b[0;34m-\u001b[0m \u001b[0;36m1\u001b[0m\u001b[0;34m:\u001b[0m\u001b[0;34m\u001b[0m\u001b[0;34m\u001b[0m\u001b[0m\n\u001b[0;32m--> 132\u001b[0;31m             \u001b[0mdata\u001b[0m \u001b[0;34m=\u001b[0m \u001b[0mself\u001b[0m\u001b[0;34m.\u001b[0m\u001b[0mmethod\u001b[0m\u001b[0;34m(\u001b[0m\u001b[0mmax_id\u001b[0m\u001b[0;34m=\u001b[0m\u001b[0mself\u001b[0m\u001b[0;34m.\u001b[0m\u001b[0mmax_id\u001b[0m\u001b[0;34m,\u001b[0m \u001b[0mparser\u001b[0m\u001b[0;34m=\u001b[0m\u001b[0mRawParser\u001b[0m\u001b[0;34m(\u001b[0m\u001b[0;34m)\u001b[0m\u001b[0;34m,\u001b[0m \u001b[0;34m*\u001b[0m\u001b[0mself\u001b[0m\u001b[0;34m.\u001b[0m\u001b[0margs\u001b[0m\u001b[0;34m,\u001b[0m \u001b[0;34m**\u001b[0m\u001b[0mself\u001b[0m\u001b[0;34m.\u001b[0m\u001b[0mkwargs\u001b[0m\u001b[0;34m)\u001b[0m\u001b[0;34m\u001b[0m\u001b[0;34m\u001b[0m\u001b[0m\n\u001b[0m\u001b[1;32m    133\u001b[0m \u001b[0;34m\u001b[0m\u001b[0m\n\u001b[1;32m    134\u001b[0m             \u001b[0;32mif\u001b[0m \u001b[0mhasattr\u001b[0m\u001b[0;34m(\u001b[0m\u001b[0mself\u001b[0m\u001b[0;34m.\u001b[0m\u001b[0mmethod\u001b[0m\u001b[0;34m,\u001b[0m \u001b[0;34m'__self__'\u001b[0m\u001b[0;34m)\u001b[0m\u001b[0;34m:\u001b[0m\u001b[0;34m\u001b[0m\u001b[0;34m\u001b[0m\u001b[0m\n",
            "\u001b[0;32m/usr/local/lib/python3.7/dist-packages/tweepy/binder.py\u001b[0m in \u001b[0;36m_call\u001b[0;34m(*args, **kwargs)\u001b[0m\n\u001b[1;32m    251\u001b[0m                 \u001b[0;32mreturn\u001b[0m \u001b[0mmethod\u001b[0m\u001b[0;34m\u001b[0m\u001b[0;34m\u001b[0m\u001b[0m\n\u001b[1;32m    252\u001b[0m             \u001b[0;32melse\u001b[0m\u001b[0;34m:\u001b[0m\u001b[0;34m\u001b[0m\u001b[0;34m\u001b[0m\u001b[0m\n\u001b[0;32m--> 253\u001b[0;31m                 \u001b[0;32mreturn\u001b[0m \u001b[0mmethod\u001b[0m\u001b[0;34m.\u001b[0m\u001b[0mexecute\u001b[0m\u001b[0;34m(\u001b[0m\u001b[0;34m)\u001b[0m\u001b[0;34m\u001b[0m\u001b[0;34m\u001b[0m\u001b[0m\n\u001b[0m\u001b[1;32m    254\u001b[0m         \u001b[0;32mfinally\u001b[0m\u001b[0;34m:\u001b[0m\u001b[0;34m\u001b[0m\u001b[0;34m\u001b[0m\u001b[0m\n\u001b[1;32m    255\u001b[0m             \u001b[0mmethod\u001b[0m\u001b[0;34m.\u001b[0m\u001b[0msession\u001b[0m\u001b[0;34m.\u001b[0m\u001b[0mclose\u001b[0m\u001b[0;34m(\u001b[0m\u001b[0;34m)\u001b[0m\u001b[0;34m\u001b[0m\u001b[0;34m\u001b[0m\u001b[0m\n",
            "\u001b[0;32m/usr/local/lib/python3.7/dist-packages/tweepy/binder.py\u001b[0m in \u001b[0;36mexecute\u001b[0;34m(self)\u001b[0m\n\u001b[1;32m    232\u001b[0m                     \u001b[0;32mraise\u001b[0m \u001b[0mRateLimitError\u001b[0m\u001b[0;34m(\u001b[0m\u001b[0merror_msg\u001b[0m\u001b[0;34m,\u001b[0m \u001b[0mresp\u001b[0m\u001b[0;34m)\u001b[0m\u001b[0;34m\u001b[0m\u001b[0;34m\u001b[0m\u001b[0m\n\u001b[1;32m    233\u001b[0m                 \u001b[0;32melse\u001b[0m\u001b[0;34m:\u001b[0m\u001b[0;34m\u001b[0m\u001b[0;34m\u001b[0m\u001b[0m\n\u001b[0;32m--> 234\u001b[0;31m                     \u001b[0;32mraise\u001b[0m \u001b[0mTweepError\u001b[0m\u001b[0;34m(\u001b[0m\u001b[0merror_msg\u001b[0m\u001b[0;34m,\u001b[0m \u001b[0mresp\u001b[0m\u001b[0;34m,\u001b[0m \u001b[0mapi_code\u001b[0m\u001b[0;34m=\u001b[0m\u001b[0mapi_error_code\u001b[0m\u001b[0;34m)\u001b[0m\u001b[0;34m\u001b[0m\u001b[0;34m\u001b[0m\u001b[0m\n\u001b[0m\u001b[1;32m    235\u001b[0m \u001b[0;34m\u001b[0m\u001b[0m\n\u001b[1;32m    236\u001b[0m             \u001b[0;31m# Parse the response payload\u001b[0m\u001b[0;34m\u001b[0m\u001b[0;34m\u001b[0m\u001b[0;34m\u001b[0m\u001b[0m\n",
            "\u001b[0;31mTweepError\u001b[0m: Twitter error response: status code = 429"
          ]
        }
      ]
    },
    {
      "cell_type": "markdown",
      "metadata": {
        "id": "aO0-gj4ttRwN"
      },
      "source": [
        "# With Keyword Only"
      ]
    },
    {
      "cell_type": "code",
      "metadata": {
        "colab": {
          "base_uri": "https://localhost:8080/",
          "height": 337
        },
        "id": "nhm7pJgRtVQn",
        "outputId": "6bcdd28c-743b-4293-8bd3-ae6fe40e7561"
      },
      "source": [
        "#Create list for column names\n",
        "COLS = ['id','created_at','lang','original text','user_name', 'place', 'place type', 'bbx', 'coordinates']\n",
        "\n",
        "def crawl_tweets(keyword):\n",
        "\n",
        "    #build dataframe from defined column list\n",
        "    df = pd.DataFrame(columns=COLS)\n",
        "    df_cleaned = pd.DataFrame(columns=COLS)\n",
        "\n",
        "    #iterate through pages with given condition\n",
        "    #using tweepy.Cursor object with items() method\n",
        "    for page in tweepy.Cursor(api.search, q=keyword, include_rts=False, count=100).pages():\n",
        "        \n",
        "        for tweet in page:\n",
        "            #creating string array\n",
        "            new_entry = []\n",
        "\n",
        "            #storing all JSON data from twitter API\n",
        "            tweet = tweet._json    \n",
        "\n",
        "            #Append the JSON parsed data to the string list:\n",
        "            new_entry += [tweet['id'], tweet['created_at'], tweet['lang'], tweet['text'], tweet['user']['name']]\n",
        "\n",
        "            #check if place name is available. If it's not, then the entry is named 'no place'\n",
        "            try:\n",
        "                place = tweet['place']['name']\n",
        "            except TypeError:\n",
        "                place = 'no place'\n",
        "            new_entry.append(place)\n",
        "\n",
        "            try:\n",
        "                place_type = tweet['place']['place_type']\n",
        "            except TypeError:\n",
        "                place_type = 'na'\n",
        "            new_entry.append(place_type)\n",
        "\n",
        "            try:\n",
        "                bbx = tweet['place']['bounding_box']['coordinates']\n",
        "            except TypeError:\n",
        "                bbx = 'na'\n",
        "            new_entry.append(bbx)\n",
        "\n",
        "            #check if coordinates are available. If it's aren't, the entry is named 'no coordinates'\n",
        "            try:\n",
        "                coord = tweet['coordinates']['coordinates']\n",
        "            except TypeError:\n",
        "                coord = 'no coordinates'\n",
        "            new_entry.append(coord)\n",
        "\n",
        "            # wrap up all the data into a data frame\n",
        "            single_tweet_df = pd.DataFrame([new_entry], columns=COLS)\n",
        "            df = df.append(single_tweet_df, ignore_index=True)\n",
        "\n",
        "            #get rid of tweets without a place\n",
        "            df_cleaned = df[df.place != 'no place']\n",
        "\n",
        "    print(\"tweets with place:\")\n",
        "    print(len(df[df.place != 'no place']))\n",
        "\n",
        "    print(\"tweets with coordinates:\")\n",
        "    print(len(df[df.coordinates != 'no coordinates']))\n",
        "\n",
        "    df_cleaned.to_csv('boundaries.csv', columns=COLS,index=False)\n",
        "\n",
        "#declare keywords as a query\n",
        "keyword = 'Boundaries'\n",
        "#declare geocode\n",
        "# geo = '-0.789275,113.921327,2700km'\n",
        "\n",
        "#call main method passing keywords and file path\n",
        "crawl_tweets(keyword)"
      ],
      "execution_count": null,
      "outputs": [
        {
          "output_type": "error",
          "ename": "TweepError",
          "evalue": "ignored",
          "traceback": [
            "\u001b[0;31m---------------------------------------------------------------------------\u001b[0m",
            "\u001b[0;31mTweepError\u001b[0m                                Traceback (most recent call last)",
            "\u001b[0;32m<ipython-input-10-134955bf1bee>\u001b[0m in \u001b[0;36m<module>\u001b[0;34m()\u001b[0m\n\u001b[1;32m     69\u001b[0m \u001b[0;34m\u001b[0m\u001b[0m\n\u001b[1;32m     70\u001b[0m \u001b[0;31m#call main method passing keywords and file path\u001b[0m\u001b[0;34m\u001b[0m\u001b[0;34m\u001b[0m\u001b[0;34m\u001b[0m\u001b[0m\n\u001b[0;32m---> 71\u001b[0;31m \u001b[0mcrawl_tweets\u001b[0m\u001b[0;34m(\u001b[0m\u001b[0mkeyword\u001b[0m\u001b[0;34m)\u001b[0m\u001b[0;34m\u001b[0m\u001b[0;34m\u001b[0m\u001b[0m\n\u001b[0m",
            "\u001b[0;32m<ipython-input-10-134955bf1bee>\u001b[0m in \u001b[0;36mcrawl_tweets\u001b[0;34m(keyword)\u001b[0m\n\u001b[1;32m     10\u001b[0m     \u001b[0;31m#iterate through pages with given condition\u001b[0m\u001b[0;34m\u001b[0m\u001b[0;34m\u001b[0m\u001b[0;34m\u001b[0m\u001b[0m\n\u001b[1;32m     11\u001b[0m     \u001b[0;31m#using tweepy.Cursor object with items() method\u001b[0m\u001b[0;34m\u001b[0m\u001b[0;34m\u001b[0m\u001b[0;34m\u001b[0m\u001b[0m\n\u001b[0;32m---> 12\u001b[0;31m     \u001b[0;32mfor\u001b[0m \u001b[0mpage\u001b[0m \u001b[0;32min\u001b[0m \u001b[0mtweepy\u001b[0m\u001b[0;34m.\u001b[0m\u001b[0mCursor\u001b[0m\u001b[0;34m(\u001b[0m\u001b[0mapi\u001b[0m\u001b[0;34m.\u001b[0m\u001b[0msearch\u001b[0m\u001b[0;34m,\u001b[0m \u001b[0mq\u001b[0m\u001b[0;34m=\u001b[0m\u001b[0mkeyword\u001b[0m\u001b[0;34m,\u001b[0m \u001b[0minclude_rts\u001b[0m\u001b[0;34m=\u001b[0m\u001b[0;32mFalse\u001b[0m\u001b[0;34m,\u001b[0m \u001b[0mcount\u001b[0m\u001b[0;34m=\u001b[0m\u001b[0;36m100\u001b[0m\u001b[0;34m)\u001b[0m\u001b[0;34m.\u001b[0m\u001b[0mpages\u001b[0m\u001b[0;34m(\u001b[0m\u001b[0;34m)\u001b[0m\u001b[0;34m:\u001b[0m\u001b[0;34m\u001b[0m\u001b[0;34m\u001b[0m\u001b[0m\n\u001b[0m\u001b[1;32m     13\u001b[0m \u001b[0;34m\u001b[0m\u001b[0m\n\u001b[1;32m     14\u001b[0m         \u001b[0;32mfor\u001b[0m \u001b[0mtweet\u001b[0m \u001b[0;32min\u001b[0m \u001b[0mpage\u001b[0m\u001b[0;34m:\u001b[0m\u001b[0;34m\u001b[0m\u001b[0;34m\u001b[0m\u001b[0m\n",
            "\u001b[0;32m/usr/local/lib/python3.7/dist-packages/tweepy/cursor.py\u001b[0m in \u001b[0;36m__next__\u001b[0;34m(self)\u001b[0m\n\u001b[1;32m     49\u001b[0m \u001b[0;34m\u001b[0m\u001b[0m\n\u001b[1;32m     50\u001b[0m     \u001b[0;32mdef\u001b[0m \u001b[0m__next__\u001b[0m\u001b[0;34m(\u001b[0m\u001b[0mself\u001b[0m\u001b[0;34m)\u001b[0m\u001b[0;34m:\u001b[0m\u001b[0;34m\u001b[0m\u001b[0;34m\u001b[0m\u001b[0m\n\u001b[0;32m---> 51\u001b[0;31m         \u001b[0;32mreturn\u001b[0m \u001b[0mself\u001b[0m\u001b[0;34m.\u001b[0m\u001b[0mnext\u001b[0m\u001b[0;34m(\u001b[0m\u001b[0;34m)\u001b[0m\u001b[0;34m\u001b[0m\u001b[0;34m\u001b[0m\u001b[0m\n\u001b[0m\u001b[1;32m     52\u001b[0m \u001b[0;34m\u001b[0m\u001b[0m\n\u001b[1;32m     53\u001b[0m     \u001b[0;32mdef\u001b[0m \u001b[0mnext\u001b[0m\u001b[0;34m(\u001b[0m\u001b[0mself\u001b[0m\u001b[0;34m)\u001b[0m\u001b[0;34m:\u001b[0m\u001b[0;34m\u001b[0m\u001b[0;34m\u001b[0m\u001b[0m\n",
            "\u001b[0;32m/usr/local/lib/python3.7/dist-packages/tweepy/cursor.py\u001b[0m in \u001b[0;36mnext\u001b[0;34m(self)\u001b[0m\n\u001b[1;32m    130\u001b[0m \u001b[0;34m\u001b[0m\u001b[0m\n\u001b[1;32m    131\u001b[0m         \u001b[0;32mif\u001b[0m \u001b[0mself\u001b[0m\u001b[0;34m.\u001b[0m\u001b[0mindex\u001b[0m \u001b[0;34m>=\u001b[0m \u001b[0mlen\u001b[0m\u001b[0;34m(\u001b[0m\u001b[0mself\u001b[0m\u001b[0;34m.\u001b[0m\u001b[0mresults\u001b[0m\u001b[0;34m)\u001b[0m \u001b[0;34m-\u001b[0m \u001b[0;36m1\u001b[0m\u001b[0;34m:\u001b[0m\u001b[0;34m\u001b[0m\u001b[0;34m\u001b[0m\u001b[0m\n\u001b[0;32m--> 132\u001b[0;31m             \u001b[0mdata\u001b[0m \u001b[0;34m=\u001b[0m \u001b[0mself\u001b[0m\u001b[0;34m.\u001b[0m\u001b[0mmethod\u001b[0m\u001b[0;34m(\u001b[0m\u001b[0mmax_id\u001b[0m\u001b[0;34m=\u001b[0m\u001b[0mself\u001b[0m\u001b[0;34m.\u001b[0m\u001b[0mmax_id\u001b[0m\u001b[0;34m,\u001b[0m \u001b[0mparser\u001b[0m\u001b[0;34m=\u001b[0m\u001b[0mRawParser\u001b[0m\u001b[0;34m(\u001b[0m\u001b[0;34m)\u001b[0m\u001b[0;34m,\u001b[0m \u001b[0;34m*\u001b[0m\u001b[0mself\u001b[0m\u001b[0;34m.\u001b[0m\u001b[0margs\u001b[0m\u001b[0;34m,\u001b[0m \u001b[0;34m**\u001b[0m\u001b[0mself\u001b[0m\u001b[0;34m.\u001b[0m\u001b[0mkwargs\u001b[0m\u001b[0;34m)\u001b[0m\u001b[0;34m\u001b[0m\u001b[0;34m\u001b[0m\u001b[0m\n\u001b[0m\u001b[1;32m    133\u001b[0m \u001b[0;34m\u001b[0m\u001b[0m\n\u001b[1;32m    134\u001b[0m             \u001b[0;32mif\u001b[0m \u001b[0mhasattr\u001b[0m\u001b[0;34m(\u001b[0m\u001b[0mself\u001b[0m\u001b[0;34m.\u001b[0m\u001b[0mmethod\u001b[0m\u001b[0;34m,\u001b[0m \u001b[0;34m'__self__'\u001b[0m\u001b[0;34m)\u001b[0m\u001b[0;34m:\u001b[0m\u001b[0;34m\u001b[0m\u001b[0;34m\u001b[0m\u001b[0m\n",
            "\u001b[0;32m/usr/local/lib/python3.7/dist-packages/tweepy/binder.py\u001b[0m in \u001b[0;36m_call\u001b[0;34m(*args, **kwargs)\u001b[0m\n\u001b[1;32m    251\u001b[0m                 \u001b[0;32mreturn\u001b[0m \u001b[0mmethod\u001b[0m\u001b[0;34m\u001b[0m\u001b[0;34m\u001b[0m\u001b[0m\n\u001b[1;32m    252\u001b[0m             \u001b[0;32melse\u001b[0m\u001b[0;34m:\u001b[0m\u001b[0;34m\u001b[0m\u001b[0;34m\u001b[0m\u001b[0m\n\u001b[0;32m--> 253\u001b[0;31m                 \u001b[0;32mreturn\u001b[0m \u001b[0mmethod\u001b[0m\u001b[0;34m.\u001b[0m\u001b[0mexecute\u001b[0m\u001b[0;34m(\u001b[0m\u001b[0;34m)\u001b[0m\u001b[0;34m\u001b[0m\u001b[0;34m\u001b[0m\u001b[0m\n\u001b[0m\u001b[1;32m    254\u001b[0m         \u001b[0;32mfinally\u001b[0m\u001b[0;34m:\u001b[0m\u001b[0;34m\u001b[0m\u001b[0;34m\u001b[0m\u001b[0m\n\u001b[1;32m    255\u001b[0m             \u001b[0mmethod\u001b[0m\u001b[0;34m.\u001b[0m\u001b[0msession\u001b[0m\u001b[0;34m.\u001b[0m\u001b[0mclose\u001b[0m\u001b[0;34m(\u001b[0m\u001b[0;34m)\u001b[0m\u001b[0;34m\u001b[0m\u001b[0;34m\u001b[0m\u001b[0m\n",
            "\u001b[0;32m/usr/local/lib/python3.7/dist-packages/tweepy/binder.py\u001b[0m in \u001b[0;36mexecute\u001b[0;34m(self)\u001b[0m\n\u001b[1;32m    232\u001b[0m                     \u001b[0;32mraise\u001b[0m \u001b[0mRateLimitError\u001b[0m\u001b[0;34m(\u001b[0m\u001b[0merror_msg\u001b[0m\u001b[0;34m,\u001b[0m \u001b[0mresp\u001b[0m\u001b[0;34m)\u001b[0m\u001b[0;34m\u001b[0m\u001b[0;34m\u001b[0m\u001b[0m\n\u001b[1;32m    233\u001b[0m                 \u001b[0;32melse\u001b[0m\u001b[0;34m:\u001b[0m\u001b[0;34m\u001b[0m\u001b[0;34m\u001b[0m\u001b[0m\n\u001b[0;32m--> 234\u001b[0;31m                     \u001b[0;32mraise\u001b[0m \u001b[0mTweepError\u001b[0m\u001b[0;34m(\u001b[0m\u001b[0merror_msg\u001b[0m\u001b[0;34m,\u001b[0m \u001b[0mresp\u001b[0m\u001b[0;34m,\u001b[0m \u001b[0mapi_code\u001b[0m\u001b[0;34m=\u001b[0m\u001b[0mapi_error_code\u001b[0m\u001b[0;34m)\u001b[0m\u001b[0;34m\u001b[0m\u001b[0;34m\u001b[0m\u001b[0m\n\u001b[0m\u001b[1;32m    235\u001b[0m \u001b[0;34m\u001b[0m\u001b[0m\n\u001b[1;32m    236\u001b[0m             \u001b[0;31m# Parse the response payload\u001b[0m\u001b[0;34m\u001b[0m\u001b[0;34m\u001b[0m\u001b[0;34m\u001b[0m\u001b[0m\n",
            "\u001b[0;31mTweepError\u001b[0m: Twitter error response: status code = 429"
          ]
        }
      ]
    },
    {
      "cell_type": "code",
      "metadata": {
        "id": "UwJo2tvwtjrZ"
      },
      "source": [
        ""
      ],
      "execution_count": null,
      "outputs": []
    }
  ]
}